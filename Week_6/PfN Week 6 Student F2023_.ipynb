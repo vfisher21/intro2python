{
 "cells": [
  {
   "cell_type": "markdown",
   "metadata": {
    "id": "PULGwtNQGio5"
   },
   "source": [
    "# Numpy\n",
    "\n",
    "We often want to work with arrays of numerical data, for example a list of firing rates. We can store such data using basic Python, more specifically as a list of numbers:"
   ]
  },
  {
   "cell_type": "code",
   "execution_count": 1,
   "metadata": {
    "id": "Kwrbdv0TGjsE"
   },
   "outputs": [],
   "source": [
    "lst_1 = [25, 20, 40, 5]"
   ]
  },
  {
   "cell_type": "markdown",
   "metadata": {
    "id": "_h3axDgYG1ze"
   },
   "source": [
    "But these lists are missing a lot of functionality that we find useful for handling numerical data. (You may be used to these from Matlab or R.) For example, suppose you want to multiply each number by 2. We may want the following command to work:"
   ]
  },
  {
   "cell_type": "code",
   "execution_count": 2,
   "metadata": {
    "colab": {
     "base_uri": "https://localhost:8080/"
    },
    "executionInfo": {
     "elapsed": 5,
     "status": "ok",
     "timestamp": 1665026787673,
     "user": {
      "displayName": "Samuel Lippl",
      "userId": "08154497855195492291"
     },
     "user_tz": 240
    },
    "id": "NyH3FjW4G0ZY",
    "outputId": "9b4b1010-57af-4e35-efdb-c5021bf33959"
   },
   "outputs": [
    {
     "data": {
      "text/plain": [
       "[25, 20, 40, 5, 25, 20, 40, 5]"
      ]
     },
     "execution_count": 2,
     "metadata": {},
     "output_type": "execute_result"
    }
   ],
   "source": [
    "2*lst_1"
   ]
  },
  {
   "cell_type": "markdown",
   "metadata": {
    "id": "CIG_FxHcHDAs"
   },
   "source": [
    "Yet its output is not what we are looking for. This is because lists are not *vectorized*: they do not assume that operations should be applied elementwise. Instead we would have to use a command like the one below:"
   ]
  },
  {
   "cell_type": "code",
   "execution_count": null,
   "metadata": {
    "colab": {
     "base_uri": "https://localhost:8080/"
    },
    "executionInfo": {
     "elapsed": 5,
     "status": "ok",
     "timestamp": 1665026801530,
     "user": {
      "displayName": "Samuel Lippl",
      "userId": "08154497855195492291"
     },
     "user_tz": 240
    },
    "id": "QcmhAnEAHB5e",
    "outputId": "e8d0b8a8-92ad-4aee-c180-9fad44ef6ead"
   },
   "outputs": [],
   "source": [
    "# Lists aren't vectorized inherently, so they are treated as a unit\n",
    "\n",
    "lst_2 = [lst_1[i]*2 for i in range(4)]\n",
    "lst_2"
   ]
  },
  {
   "cell_type": "markdown",
   "metadata": {
    "id": "xmAOTJi2HT7h"
   },
   "source": [
    "To address this and other issue that arise in handling numerical data in Python, we can use `numpy`, which stands for numerical data in Python.\n",
    "\n",
    "So far, we have exclusively used Python's base functionality. `numpy` is the first example of a package that has been contributed by external users and has to be installed manually. It is, however, integral to Python for basically anyone working with numerical data."
   ]
  },
  {
   "cell_type": "code",
   "execution_count": 5,
   "metadata": {
    "id": "0aQecS75HX0p"
   },
   "outputs": [],
   "source": [
    "import numpy as np #(Np is a standard alias)"
   ]
  },
  {
   "cell_type": "markdown",
   "metadata": {
    "id": "K4prz5cvHaBa"
   },
   "source": [
    "## One-dimensional arrays: Vectors\n",
    "The central object of interest for numpy is an *array*, which refers to rectangular data (more on this later). The simplest case of an array is a one-dimensional one, a vector. You can create a vector from a list:"
   ]
  },
  {
   "cell_type": "code",
   "execution_count": 7,
   "metadata": {
    "id": "g4Hrcx-XHZfD"
   },
   "outputs": [],
   "source": [
    "lst_1 = [25, 20, 40, 5]\n",
    "vec_1 = np.array(lst_1)"
   ]
  },
  {
   "cell_type": "code",
   "execution_count": 8,
   "metadata": {
    "colab": {
     "base_uri": "https://localhost:8080/"
    },
    "executionInfo": {
     "elapsed": 8,
     "status": "ok",
     "timestamp": 1665026832917,
     "user": {
      "displayName": "Samuel Lippl",
      "userId": "08154497855195492291"
     },
     "user_tz": 240
    },
    "id": "YPII22m0HlSZ",
    "outputId": "6f000524-c884-4898-fbeb-375435384600"
   },
   "outputs": [
    {
     "data": {
      "text/plain": [
       "array([25, 20, 40,  5])"
      ]
     },
     "execution_count": 8,
     "metadata": {},
     "output_type": "execute_result"
    }
   ],
   "source": [
    "vec_1"
   ]
  },
  {
   "cell_type": "code",
   "execution_count": 9,
   "metadata": {
    "colab": {
     "base_uri": "https://localhost:8080/"
    },
    "executionInfo": {
     "elapsed": 288,
     "status": "ok",
     "timestamp": 1665026836363,
     "user": {
      "displayName": "Samuel Lippl",
      "userId": "08154497855195492291"
     },
     "user_tz": 240
    },
    "id": "u89emqUZrOCF",
    "outputId": "e967e300-b714-491e-a0ac-9fc6ed24f6f8"
   },
   "outputs": [
    {
     "data": {
      "text/plain": [
       "numpy.ndarray"
      ]
     },
     "execution_count": 9,
     "metadata": {},
     "output_type": "execute_result"
    }
   ],
   "source": [
    "type(vec_1)"
   ]
  },
  {
   "cell_type": "markdown",
   "metadata": {
    "id": "ty-xfOU5H0gm"
   },
   "source": [
    "We can also turn a vector back into a list:"
   ]
  },
  {
   "cell_type": "code",
   "execution_count": 10,
   "metadata": {
    "colab": {
     "base_uri": "https://localhost:8080/"
    },
    "executionInfo": {
     "elapsed": 395,
     "status": "ok",
     "timestamp": 1665026844134,
     "user": {
      "displayName": "Samuel Lippl",
      "userId": "08154497855195492291"
     },
     "user_tz": 240
    },
    "id": "1IioBJziHy74",
    "outputId": "2f0e9841-e7d4-43d4-b22e-925b108a960c"
   },
   "outputs": [
    {
     "data": {
      "text/plain": [
       "[25, 20, 40, 5]"
      ]
     },
     "execution_count": 10,
     "metadata": {},
     "output_type": "execute_result"
    }
   ],
   "source": [
    "list(vec_1)"
   ]
  },
  {
   "cell_type": "markdown",
   "metadata": {
    "id": "jxNfol0zH5fE"
   },
   "source": [
    "Using the numpy array, we can now perform mathematical operations in the way we would like (and perhaps expect from e.g. Matlab)."
   ]
  },
  {
   "cell_type": "code",
   "execution_count": null,
   "metadata": {
    "colab": {
     "base_uri": "https://localhost:8080/"
    },
    "executionInfo": {
     "elapsed": 285,
     "status": "ok",
     "timestamp": 1665026863093,
     "user": {
      "displayName": "Samuel Lippl",
      "userId": "08154497855195492291"
     },
     "user_tz": 240
    },
    "id": "JSDCiaZAH6rK",
    "outputId": "0ce6452a-aa05-44c3-e957-4f4f7d533d29"
   },
   "outputs": [],
   "source": [
    "vec_2 = 2*vec_1\n",
    "vec_2"
   ]
  },
  {
   "cell_type": "code",
   "execution_count": null,
   "metadata": {
    "colab": {
     "base_uri": "https://localhost:8080/"
    },
    "executionInfo": {
     "elapsed": 6,
     "status": "ok",
     "timestamp": 1665026877567,
     "user": {
      "displayName": "Samuel Lippl",
      "userId": "08154497855195492291"
     },
     "user_tz": 240
    },
    "id": "gqciRPOxH9mM",
    "outputId": "2906b806-1e89-4e0d-c718-549b54caf767"
   },
   "outputs": [],
   "source": [
    "vec_1+vec_2"
   ]
  },
  {
   "cell_type": "markdown",
   "metadata": {
    "id": "zNaCUrTiIDlu"
   },
   "source": [
    "In contrast, what happens if we add two lists?"
   ]
  },
  {
   "cell_type": "code",
   "execution_count": null,
   "metadata": {
    "colab": {
     "base_uri": "https://localhost:8080/"
    },
    "executionInfo": {
     "elapsed": 8,
     "status": "ok",
     "timestamp": 1665026896408,
     "user": {
      "displayName": "Samuel Lippl",
      "userId": "08154497855195492291"
     },
     "user_tz": 240
    },
    "id": "Vi4o1qOqICye",
    "outputId": "2ed0d202-c6d7-4a96-c947-5d97adabc0b0"
   },
   "outputs": [],
   "source": [
    "lst_1 + lst_2"
   ]
  },
  {
   "cell_type": "markdown",
   "metadata": {
    "id": "xkMsnkgsJEzH"
   },
   "source": [
    "### Differences between lists and vectors\n",
    "Both lists and vectors can be indexed and we can easily transform an array into a list and vice versa. What are some of their differences?\n",
    "#### Elementwise operations\n",
    "We have already covered that arrays have elementwise operations whereas lists do not.\n",
    "#### Each element must have the same type\n",
    "Lists can consist of elements with different types:"
   ]
  },
  {
   "cell_type": "code",
   "execution_count": 11,
   "metadata": {
    "colab": {
     "base_uri": "https://localhost:8080/"
    },
    "executionInfo": {
     "elapsed": 585,
     "status": "ok",
     "timestamp": 1665026955531,
     "user": {
      "displayName": "Samuel Lippl",
      "userId": "08154497855195492291"
     },
     "user_tz": 240
    },
    "id": "tDs2CyYJJBp8",
    "outputId": "697a0c13-beb9-43a0-a9b1-8be043c8eddc"
   },
   "outputs": [
    {
     "data": {
      "text/plain": [
       "['a', 5]"
      ]
     },
     "execution_count": 11,
     "metadata": {},
     "output_type": "execute_result"
    }
   ],
   "source": [
    "lst_3 = ['a', 5]\n",
    "lst_3"
   ]
  },
  {
   "cell_type": "markdown",
   "metadata": {
    "id": "zAE4NuCaJVgK"
   },
   "source": [
    "An array, on the other hand, will always have the same data type for each of its elements. If a list with unequal types is converted to an array all its elements are converted to the same data type."
   ]
  },
  {
   "cell_type": "code",
   "execution_count": 18,
   "metadata": {
    "colab": {
     "base_uri": "https://localhost:8080/"
    },
    "executionInfo": {
     "elapsed": 290,
     "status": "ok",
     "timestamp": 1665026964530,
     "user": {
      "displayName": "Samuel Lippl",
      "userId": "08154497855195492291"
     },
     "user_tz": 240
    },
    "id": "HenQjM7BJDm8",
    "outputId": "04e03289-9a2e-449c-ef17-e5d2b29e02e6"
   },
   "outputs": [
    {
     "data": {
      "text/plain": [
       "array(['a', '5'], dtype='<U21')"
      ]
     },
     "execution_count": 18,
     "metadata": {},
     "output_type": "execute_result"
    }
   ],
   "source": [
    "vec_3 = np.array(lst_3)\n",
    "vec_3"
   ]
  },
  {
   "cell_type": "markdown",
   "metadata": {
    "id": "2oyiVK-eBugp"
   },
   "source": [
    "<U21 is the data type corresponding to strings. You usually don't want to rely on this automatic casting functionality and should try to avoid it."
   ]
  },
  {
   "cell_type": "code",
   "execution_count": 13,
   "metadata": {
    "colab": {
     "base_uri": "https://localhost:8080/"
    },
    "executionInfo": {
     "elapsed": 3,
     "status": "ok",
     "timestamp": 1665026974227,
     "user": {
      "displayName": "Samuel Lippl",
      "userId": "08154497855195492291"
     },
     "user_tz": 240
    },
    "id": "Mq6gRIo7xLpP",
    "outputId": "cce46044-7202-44a0-f1d5-b9c1277a880f"
   },
   "outputs": [
    {
     "data": {
      "text/plain": [
       "numpy.ndarray"
      ]
     },
     "execution_count": 13,
     "metadata": {},
     "output_type": "execute_result"
    }
   ],
   "source": [
    "type(vec_3)"
   ]
  },
  {
   "cell_type": "markdown",
   "metadata": {
    "id": "HU0X6nxXJmEU"
   },
   "source": [
    "How can you print out the type of this vector? Note that `type(vec_3)` gives you the type of the entire object which is a numpy array. Rather you want the type of the individual elements. Try using the autocomplete function to find out.\n",
    "\n",
    "*Hint* look at what the type information was called above."
   ]
  },
  {
   "cell_type": "code",
   "execution_count": 19,
   "metadata": {
    "colab": {
     "base_uri": "https://localhost:8080/"
    },
    "executionInfo": {
     "elapsed": 9,
     "status": "ok",
     "timestamp": 1665026979402,
     "user": {
      "displayName": "Samuel Lippl",
      "userId": "08154497855195492291"
     },
     "user_tz": 240
    },
    "id": "KMTxXt7CJj4L",
    "outputId": "855247f2-7202-4152-d25c-fa09302111c6"
   },
   "outputs": [
    {
     "name": "stdout",
     "output_type": "stream",
     "text": [
      "<class 'numpy.str_'>\n",
      "<class 'numpy.str_'>\n"
     ]
    },
    {
     "data": {
      "text/plain": [
       "[None, None]"
      ]
     },
     "execution_count": 19,
     "metadata": {},
     "output_type": "execute_result"
    }
   ],
   "source": [
    "[print(type(x)) for x in vec_3]"
   ]
  },
  {
   "cell_type": "markdown",
   "metadata": {
    "id": "s8KbrP0DWwIl"
   },
   "source": [
    "We do we not need parentheses after `dtype`? This is because `dtype` is not function, but rather a new type of Python object called an *attribute*. These are like variables, but are limited in scope to specific objects. We will get to know them in more depth in a later lesson."
   ]
  },
  {
   "cell_type": "markdown",
   "metadata": {
    "id": "9f87sfl0XXfC"
   },
   "source": [
    "### Question 1\n",
    "\n",
    "- Create a numpy array with the elements 3, 7, 10 and divide each element by two\n",
    "- Create a new array `vec_4` that is the elementwise multiplication of `vec_1` and `vec_2`.\n",
    "- Create an array `vec_5` that has a `True` value wherever `vec_1` is smaller than or equal to `20` and a `False` value otherwise. *Hint:* This should be possible in a one liner."
   ]
  },
  {
   "cell_type": "code",
   "execution_count": 22,
   "metadata": {
    "colab": {
     "base_uri": "https://localhost:8080/"
    },
    "executionInfo": {
     "elapsed": 4,
     "status": "ok",
     "timestamp": 1696880549521,
     "user": {
      "displayName": "Abhishek Shah",
      "userId": "00429883755002842716"
     },
     "user_tz": 240
    },
    "id": "kRGq5IBz9jPu",
    "outputId": "6a5305c7-c315-4211-cd5c-92c4a9284f87"
   },
   "outputs": [],
   "source": [
    "vec_1 = np.array([3,7,10])\n",
    "vec_2 = vec_1 / 2 \n"
   ]
  },
  {
   "cell_type": "code",
   "execution_count": 24,
   "metadata": {
    "colab": {
     "base_uri": "https://localhost:8080/"
    },
    "executionInfo": {
     "elapsed": 3,
     "status": "ok",
     "timestamp": 1696880549521,
     "user": {
      "displayName": "Abhishek Shah",
      "userId": "00429883755002842716"
     },
     "user_tz": 240
    },
    "id": "6Ffj8O1a9kV_",
    "outputId": "d55255a2-e37b-4c59-bfd2-aeec82d6fa5b"
   },
   "outputs": [],
   "source": [
    "vec_4 = vec_1 * vec_2"
   ]
  },
  {
   "cell_type": "code",
   "execution_count": 26,
   "metadata": {
    "colab": {
     "base_uri": "https://localhost:8080/"
    },
    "executionInfo": {
     "elapsed": 2,
     "status": "ok",
     "timestamp": 1696880550192,
     "user": {
      "displayName": "Abhishek Shah",
      "userId": "00429883755002842716"
     },
     "user_tz": 240
    },
    "id": "q9kHhGP19l3E",
    "outputId": "a42fdafa-fd1f-431e-bde3-56252be1c90d"
   },
   "outputs": [],
   "source": [
    "#vec_5 = np.array([x <= 20 for x in vec_4])\n",
    "vec_5 = vec_1 <= 20\n"
   ]
  },
  {
   "cell_type": "markdown",
   "metadata": {
    "id": "I9g4o9-5aau7"
   },
   "source": [
    "## Two-dimensional arrays: Matrices\n",
    "Rectangular data in two dimensions is often called a matrix: it consists of observations organized by rows and columns. Basic Python would allow us to store such data using a list of lists:"
   ]
  },
  {
   "cell_type": "code",
   "execution_count": 27,
   "metadata": {
    "colab": {
     "base_uri": "https://localhost:8080/"
    },
    "executionInfo": {
     "elapsed": 550,
     "status": "ok",
     "timestamp": 1665032512624,
     "user": {
      "displayName": "Samuel Lippl",
      "userId": "08154497855195492291"
     },
     "user_tz": 240
    },
    "id": "aHaussb_acn4",
    "outputId": "8b583c28-1716-4463-b167-8ad740847bf1"
   },
   "outputs": [
    {
     "data": {
      "text/plain": [
       "[[1, 2], [3, 4], [5, 6]]"
      ]
     },
     "execution_count": 27,
     "metadata": {},
     "output_type": "execute_result"
    }
   ],
   "source": [
    "lst_1 = [\n",
    "    [1, 2],\n",
    "    [3, 4],\n",
    "    [5, 6]\n",
    "]\n",
    "lst_1"
   ]
  },
  {
   "cell_type": "markdown",
   "metadata": {
    "id": "N07rOqeqaqwQ"
   },
   "source": [
    "Yet the already tedious process of computing elementwise operations quickly becomes infeasible in this context. If wanted to multiply each element by two we would have to iterate over the outer list and then the inner set of lists."
   ]
  },
  {
   "cell_type": "code",
   "execution_count": null,
   "metadata": {
    "colab": {
     "base_uri": "https://localhost:8080/"
    },
    "executionInfo": {
     "elapsed": 3,
     "status": "ok",
     "timestamp": 1665032513219,
     "user": {
      "displayName": "Samuel Lippl",
      "userId": "08154497855195492291"
     },
     "user_tz": 240
    },
    "id": "NCbnADCCaqTC",
    "outputId": "1cf52769-6205-4c95-d033-9aaed7d3cae3"
   },
   "outputs": [],
   "source": [
    "lst_2 = [\n",
    "    [2*it2 for it2 in it] for it in lst_1\n",
    "]\n",
    "lst_2"
   ]
  },
  {
   "cell_type": "markdown",
   "metadata": {
    "id": "6WSQCwpoa6zv"
   },
   "source": [
    "Again we can turn the list of lists into a matrix simply by applying `np.array`:"
   ]
  },
  {
   "cell_type": "code",
   "execution_count": 28,
   "metadata": {
    "colab": {
     "base_uri": "https://localhost:8080/"
    },
    "executionInfo": {
     "elapsed": 7,
     "status": "ok",
     "timestamp": 1665032513701,
     "user": {
      "displayName": "Samuel Lippl",
      "userId": "08154497855195492291"
     },
     "user_tz": 240
    },
    "id": "A2ZH45xCa5xs",
    "outputId": "1d8bb998-fab9-424a-d67c-27592f96d83f"
   },
   "outputs": [
    {
     "data": {
      "text/plain": [
       "array([[1, 2],\n",
       "       [3, 4],\n",
       "       [5, 6]])"
      ]
     },
     "execution_count": 28,
     "metadata": {},
     "output_type": "execute_result"
    }
   ],
   "source": [
    "mat_1 = np.array(lst_1)\n",
    "mat_1"
   ]
  },
  {
   "cell_type": "markdown",
   "metadata": {
    "id": "4oHG4eJpbJLQ"
   },
   "source": [
    "Now we can apply vectorized operations as previously:"
   ]
  },
  {
   "cell_type": "code",
   "execution_count": 29,
   "metadata": {
    "colab": {
     "base_uri": "https://localhost:8080/"
    },
    "executionInfo": {
     "elapsed": 6,
     "status": "ok",
     "timestamp": 1665032513702,
     "user": {
      "displayName": "Samuel Lippl",
      "userId": "08154497855195492291"
     },
     "user_tz": 240
    },
    "id": "lSdMqEdfaZ-S",
    "outputId": "27d7f83c-5e04-4fc5-d409-1ae499d22df3"
   },
   "outputs": [
    {
     "data": {
      "text/plain": [
       "array([[ 2,  4],\n",
       "       [ 6,  8],\n",
       "       [10, 12]])"
      ]
     },
     "execution_count": 29,
     "metadata": {},
     "output_type": "execute_result"
    }
   ],
   "source": [
    "mat_2 = 2*mat_1\n",
    "mat_2"
   ]
  },
  {
   "cell_type": "markdown",
   "metadata": {
    "id": "TEchqbaYbZAx"
   },
   "source": [
    "How can you find out the number of rows and columns of the matrix? Try googling or exploring the methods using the autocomplete function."
   ]
  },
  {
   "cell_type": "code",
   "execution_count": 30,
   "metadata": {
    "colab": {
     "base_uri": "https://localhost:8080/"
    },
    "executionInfo": {
     "elapsed": 240,
     "status": "ok",
     "timestamp": 1664983300535,
     "user": {
      "displayName": "Samuel Lippl",
      "userId": "08154497855195492291"
     },
     "user_tz": 240
    },
    "id": "A1SiyNYlbYDn",
    "outputId": "027c49da-1952-4c6d-eed0-40a41843c31b"
   },
   "outputs": [
    {
     "data": {
      "text/plain": [
       "(3, 2)"
      ]
     },
     "execution_count": 30,
     "metadata": {},
     "output_type": "execute_result"
    }
   ],
   "source": [
    "mat_1.shape"
   ]
  },
  {
   "cell_type": "markdown",
   "metadata": {
    "id": "nOVUK8v_bg8v"
   },
   "source": [
    "Importantly, numpy, by default, uses elementwise computations. So `*` results in elementwise multiplication, not matrix multiplication."
   ]
  },
  {
   "cell_type": "code",
   "execution_count": 31,
   "metadata": {
    "colab": {
     "base_uri": "https://localhost:8080/"
    },
    "executionInfo": {
     "elapsed": 208,
     "status": "ok",
     "timestamp": 1664983682740,
     "user": {
      "displayName": "Samuel Lippl",
      "userId": "08154497855195492291"
     },
     "user_tz": 240
    },
    "id": "7ccLZjhTbXFl",
    "outputId": "5430e4ba-cd69-4790-fd01-8e8787723646"
   },
   "outputs": [
    {
     "data": {
      "text/plain": [
       "array([[ 2,  8],\n",
       "       [18, 32],\n",
       "       [50, 72]])"
      ]
     },
     "execution_count": 31,
     "metadata": {},
     "output_type": "execute_result"
    }
   ],
   "source": [
    "mat_1*mat_2"
   ]
  },
  {
   "cell_type": "markdown",
   "metadata": {
    "id": "e7MM0aFwbtM3"
   },
   "source": [
    "You can run matrix multiplication by using the `@` operator."
   ]
  },
  {
   "cell_type": "code",
   "execution_count": 33,
   "metadata": {
    "colab": {
     "base_uri": "https://localhost:8080/"
    },
    "executionInfo": {
     "elapsed": 368,
     "status": "ok",
     "timestamp": 1664983740033,
     "user": {
      "displayName": "Samuel Lippl",
      "userId": "08154497855195492291"
     },
     "user_tz": 240
    },
    "id": "SdcCXPBJbPfz",
    "outputId": "3130dc41-bca8-4b6b-feb4-24c49a597fdc"
   },
   "outputs": [
    {
     "data": {
      "text/plain": [
       "array([[ 7, 10],\n",
       "       [15, 22],\n",
       "       [23, 34]])"
      ]
     },
     "execution_count": 33,
     "metadata": {},
     "output_type": "execute_result"
    }
   ],
   "source": [
    "mat_3 = np.array([[1,2],[3,4]])\n",
    "mat_1@mat_3"
   ]
  },
  {
   "cell_type": "markdown",
   "metadata": {
    "id": "85fE77jCf4Cu"
   },
   "source": [
    "### Saving arrays\n",
    "We can save arrays using `np.save`."
   ]
  },
  {
   "cell_type": "code",
   "execution_count": 34,
   "metadata": {
    "id": "sHUU-KMef2ek"
   },
   "outputs": [],
   "source": [
    "np.save('mat_1.npy', mat_1)"
   ]
  },
  {
   "cell_type": "code",
   "execution_count": 35,
   "metadata": {
    "id": "ih06GwajgD1J"
   },
   "outputs": [],
   "source": [
    "mat_1_copy = np.load('mat_1.npy')"
   ]
  },
  {
   "cell_type": "code",
   "execution_count": 36,
   "metadata": {
    "colab": {
     "base_uri": "https://localhost:8080/"
    },
    "executionInfo": {
     "elapsed": 10,
     "status": "ok",
     "timestamp": 1665029665046,
     "user": {
      "displayName": "Samuel Lippl",
      "userId": "08154497855195492291"
     },
     "user_tz": 240
    },
    "id": "Qk5uUcWRgGFk",
    "outputId": "f881fbd2-21e8-42b3-a6c2-cb7726dbf95e"
   },
   "outputs": [
    {
     "data": {
      "text/plain": [
       "array([[1, 2],\n",
       "       [3, 4],\n",
       "       [5, 6]])"
      ]
     },
     "execution_count": 36,
     "metadata": {},
     "output_type": "execute_result"
    }
   ],
   "source": [
    "mat_1_copy"
   ]
  },
  {
   "cell_type": "markdown",
   "metadata": {
    "id": "4qDjYW1sgIbS"
   },
   "source": [
    "## Higher-dimensional arrays"
   ]
  },
  {
   "cell_type": "markdown",
   "metadata": {
    "id": "xjSrE54nhytJ"
   },
   "source": [
    "We now load some simulated data, which is stored in the file `ex_array.npy`. Try assigning the data in that file to the variable `arr`."
   ]
  },
  {
   "cell_type": "code",
   "execution_count": 37,
   "metadata": {
    "id": "OmWwSJnhhxt2"
   },
   "outputs": [],
   "source": [
    "arr = np.load('ex_array.npy')"
   ]
  },
  {
   "cell_type": "markdown",
   "metadata": {
    "id": "W6THIuYWh_6q"
   },
   "source": [
    "Suppose you know that what is stored in this data are spike rates of fifty different neurons for two different conditions and ten repeated measurements. Spike rates are recorded every second for 2000 seconds. How can you figure out how this data is represented in the array?"
   ]
  },
  {
   "cell_type": "code",
   "execution_count": 38,
   "metadata": {
    "colab": {
     "base_uri": "https://localhost:8080/"
    },
    "executionInfo": {
     "elapsed": 9,
     "status": "ok",
     "timestamp": 1665030312703,
     "user": {
      "displayName": "Samuel Lippl",
      "userId": "08154497855195492291"
     },
     "user_tz": 240
    },
    "id": "lezT4fgbh7UZ",
    "outputId": "d6edc8f1-7d1c-404f-87e7-1deaaa8a3dfa"
   },
   "outputs": [
    {
     "data": {
      "text/plain": [
       "(2, 10, 50, 2000)"
      ]
     },
     "execution_count": 38,
     "metadata": {},
     "output_type": "execute_result"
    }
   ],
   "source": [
    "arr.shape\n",
    "#e.g. 2 subjects, 10 trials, 50 neurons, measured for 2000 seconds\n",
    "# Loads as a tuple"
   ]
  },
  {
   "cell_type": "code",
   "execution_count": 39,
   "metadata": {
    "colab": {
     "base_uri": "https://localhost:8080/"
    },
    "executionInfo": {
     "elapsed": 8,
     "status": "ok",
     "timestamp": 1665030428423,
     "user": {
      "displayName": "Samuel Lippl",
      "userId": "08154497855195492291"
     },
     "user_tz": 240
    },
    "id": "xkPa3Zj-jArE",
    "outputId": "460bad23-d54a-4b8f-b3c2-11f6eab0ee46"
   },
   "outputs": [
    {
     "data": {
      "text/plain": [
       "4"
      ]
     },
     "execution_count": 39,
     "metadata": {},
     "output_type": "execute_result"
    }
   ],
   "source": [
    "arr.ndim"
   ]
  },
  {
   "cell_type": "markdown",
   "metadata": {
    "id": "R7dmsH5TiywM"
   },
   "source": [
    "Whereas a vector has one dimension and a matrix has two dimensions, `arr` has four dimensions: the first one specifies the condition, the second one the trial, the third one the neuron, and the fourth one the timepoint. We can also create higher-dimensional arrays directly:"
   ]
  },
  {
   "cell_type": "code",
   "execution_count": 40,
   "metadata": {
    "id": "ZjMjzrDXilnk"
   },
   "outputs": [],
   "source": [
    "arr_2 = np.array([\n",
    "    [[2,4,6],\n",
    "     [1,3,5]],\n",
    "    [[0.5,1,2],\n",
    "     [0.75, 1, 1.25]]\n",
    "])"
   ]
  },
  {
   "cell_type": "markdown",
   "metadata": {
    "id": "0MJwrnNijaAs"
   },
   "source": [
    "What is `arr_2.ndim` and `arr_2.shape`?"
   ]
  },
  {
   "cell_type": "code",
   "execution_count": 41,
   "metadata": {
    "colab": {
     "base_uri": "https://localhost:8080/"
    },
    "executionInfo": {
     "elapsed": 318,
     "status": "ok",
     "timestamp": 1665030545046,
     "user": {
      "displayName": "Samuel Lippl",
      "userId": "08154497855195492291"
     },
     "user_tz": 240
    },
    "id": "O5LIkrgajZWy",
    "outputId": "808a92c5-d12f-4d06-92bf-91528b2d3186"
   },
   "outputs": [
    {
     "data": {
      "text/plain": [
       "3"
      ]
     },
     "execution_count": 41,
     "metadata": {},
     "output_type": "execute_result"
    }
   ],
   "source": [
    "arr_2.ndim"
   ]
  },
  {
   "cell_type": "code",
   "execution_count": 42,
   "metadata": {
    "colab": {
     "base_uri": "https://localhost:8080/"
    },
    "executionInfo": {
     "elapsed": 9,
     "status": "ok",
     "timestamp": 1665030547413,
     "user": {
      "displayName": "Samuel Lippl",
      "userId": "08154497855195492291"
     },
     "user_tz": 240
    },
    "id": "Up9CDVi0jXC4",
    "outputId": "d492b942-e770-42ea-c946-1432c16ad5eb"
   },
   "outputs": [
    {
     "data": {
      "text/plain": [
       "(2, 2, 3)"
      ]
     },
     "execution_count": 42,
     "metadata": {},
     "output_type": "execute_result"
    }
   ],
   "source": [
    "arr_2.shape"
   ]
  },
  {
   "cell_type": "markdown",
   "metadata": {
    "id": "gz4AMGrVb7p6"
   },
   "source": [
    "### Data must be rectangular\n",
    "Importantly numpy only allows for rectangular data. What happens if you create an array from a list of lists with unequal length?"
   ]
  },
  {
   "cell_type": "code",
   "execution_count": 44,
   "metadata": {
    "colab": {
     "base_uri": "https://localhost:8080/"
    },
    "executionInfo": {
     "elapsed": 381,
     "status": "ok",
     "timestamp": 1665030719136,
     "user": {
      "displayName": "Samuel Lippl",
      "userId": "08154497855195492291"
     },
     "user_tz": 240
    },
    "id": "nQNcMlmwb0l1",
    "outputId": "263303ed-39db-432c-b2ad-2375d3a9112f"
   },
   "outputs": [],
   "source": [
    "mat = np.array([[1,2],[3]])"
   ]
  },
  {
   "cell_type": "code",
   "execution_count": null,
   "metadata": {
    "colab": {
     "base_uri": "https://localhost:8080/"
    },
    "executionInfo": {
     "elapsed": 331,
     "status": "ok",
     "timestamp": 1665030722205,
     "user": {
      "displayName": "Samuel Lippl",
      "userId": "08154497855195492291"
     },
     "user_tz": 240
    },
    "id": "wdbFi0KxcHtD",
    "outputId": "422201f6-6428-4317-930d-a6797f74d45e"
   },
   "outputs": [],
   "source": [
    "mat"
   ]
  },
  {
   "cell_type": "markdown",
   "metadata": {
    "id": "K_bR9EdTcJ0U"
   },
   "source": [
    "### Broadcasting"
   ]
  },
  {
   "cell_type": "markdown",
   "metadata": {
    "id": "RuSm1ullcVBX"
   },
   "source": [
    "In general you cannot add two matrices with different shapes:"
   ]
  },
  {
   "cell_type": "code",
   "execution_count": 45,
   "metadata": {
    "colab": {
     "base_uri": "https://localhost:8080/"
    },
    "executionInfo": {
     "elapsed": 346,
     "status": "ok",
     "timestamp": 1665030787468,
     "user": {
      "displayName": "Samuel Lippl",
      "userId": "08154497855195492291"
     },
     "user_tz": 240
    },
    "id": "dC4lJH2ncJJD",
    "outputId": "aaff9a47-843f-40d8-aa7e-e8b2651a453a"
   },
   "outputs": [
    {
     "data": {
      "text/plain": [
       "(3, 2)"
      ]
     },
     "execution_count": 45,
     "metadata": {},
     "output_type": "execute_result"
    }
   ],
   "source": [
    "mat_1.shape"
   ]
  },
  {
   "cell_type": "code",
   "execution_count": 46,
   "metadata": {
    "id": "lYd4fORPkZNd"
   },
   "outputs": [],
   "source": [
    "mat_3 = np.array([\n",
    "    [1,2,3],\n",
    "    [1,2,3]\n",
    "])"
   ]
  },
  {
   "cell_type": "code",
   "execution_count": 47,
   "metadata": {
    "colab": {
     "base_uri": "https://localhost:8080/",
     "height": 167
    },
    "executionInfo": {
     "elapsed": 14,
     "status": "error",
     "timestamp": 1665030806997,
     "user": {
      "displayName": "Samuel Lippl",
      "userId": "08154497855195492291"
     },
     "user_tz": 240
    },
    "id": "3vC8NBhGkc0W",
    "outputId": "9dac0cb5-60ef-47ed-e2a4-c663e23698b1"
   },
   "outputs": [
    {
     "ename": "ValueError",
     "evalue": "operands could not be broadcast together with shapes (3,2) (2,3) ",
     "output_type": "error",
     "traceback": [
      "\u001b[0;31m---------------------------------------------------------------------------\u001b[0m",
      "\u001b[0;31mValueError\u001b[0m                                Traceback (most recent call last)",
      "Cell \u001b[0;32mIn[47], line 1\u001b[0m\n\u001b[0;32m----> 1\u001b[0m mat_1\u001b[39m+\u001b[39;49mmat_3\n",
      "\u001b[0;31mValueError\u001b[0m: operands could not be broadcast together with shapes (3,2) (2,3) "
     ]
    }
   ],
   "source": [
    "mat_1+mat_3"
   ]
  },
  {
   "cell_type": "markdown",
   "metadata": {
    "id": "OhFi4XhrkzZh"
   },
   "source": [
    "Elementwise operations can work between two arrays with unequal shapes:\n",
    "- If they match everywhere except where one of them has a dimension of length 1\n",
    "- If they have an unequal number of dimensions, the array with fewer dimensions is appended dimensions of length 1 in the beginning."
   ]
  },
  {
   "cell_type": "code",
   "execution_count": 48,
   "metadata": {
    "colab": {
     "base_uri": "https://localhost:8080/"
    },
    "executionInfo": {
     "elapsed": 416,
     "status": "ok",
     "timestamp": 1665030967454,
     "user": {
      "displayName": "Samuel Lippl",
      "userId": "08154497855195492291"
     },
     "user_tz": 240
    },
    "id": "fVg714JHcTAN",
    "outputId": "ee9a8a11-5bc8-4476-9c50-94fbefa11ee9"
   },
   "outputs": [
    {
     "data": {
      "text/plain": [
       "array([[2, 4],\n",
       "       [4, 6],\n",
       "       [6, 8]])"
      ]
     },
     "execution_count": 48,
     "metadata": {},
     "output_type": "execute_result"
    }
   ],
   "source": [
    "np.array([\n",
    "    [1,2]\n",
    "]) + np.array([\n",
    "    [1,2],\n",
    "    [3,4],\n",
    "    [5,6]\n",
    "])"
   ]
  },
  {
   "cell_type": "markdown",
   "metadata": {
    "id": "txpp5D4Fcbnh"
   },
   "source": [
    "The same thing is true for matrices with one column or other elementwise operations."
   ]
  },
  {
   "cell_type": "code",
   "execution_count": 49,
   "metadata": {
    "id": "MAqugLYAxvX8"
   },
   "outputs": [],
   "source": [
    "divisor = np.array([[2], [1], [1]])"
   ]
  },
  {
   "cell_type": "code",
   "execution_count": 50,
   "metadata": {
    "colab": {
     "base_uri": "https://localhost:8080/"
    },
    "executionInfo": {
     "elapsed": 8,
     "status": "ok",
     "timestamp": 1665030985347,
     "user": {
      "displayName": "Samuel Lippl",
      "userId": "08154497855195492291"
     },
     "user_tz": 240
    },
    "id": "1wwZoRZbxww4",
    "outputId": "73a1f9ad-33e1-4399-f00c-af5048109b2c"
   },
   "outputs": [
    {
     "data": {
      "text/plain": [
       "(3, 1)"
      ]
     },
     "execution_count": 50,
     "metadata": {},
     "output_type": "execute_result"
    }
   ],
   "source": [
    "divisor.shape"
   ]
  },
  {
   "cell_type": "code",
   "execution_count": 51,
   "metadata": {
    "colab": {
     "base_uri": "https://localhost:8080/"
    },
    "executionInfo": {
     "elapsed": 9,
     "status": "ok",
     "timestamp": 1665030987325,
     "user": {
      "displayName": "Samuel Lippl",
      "userId": "08154497855195492291"
     },
     "user_tz": 240
    },
    "id": "K_YXKJNolJId",
    "outputId": "505b949f-0a2f-4437-8140-901bd9d565f5"
   },
   "outputs": [
    {
     "data": {
      "text/plain": [
       "array([[1, 2],\n",
       "       [3, 4],\n",
       "       [5, 6]])"
      ]
     },
     "execution_count": 51,
     "metadata": {},
     "output_type": "execute_result"
    }
   ],
   "source": [
    "mat_1"
   ]
  },
  {
   "cell_type": "code",
   "execution_count": 52,
   "metadata": {
    "colab": {
     "base_uri": "https://localhost:8080/"
    },
    "executionInfo": {
     "elapsed": 140,
     "status": "ok",
     "timestamp": 1664984005283,
     "user": {
      "displayName": "Samuel Lippl",
      "userId": "08154497855195492291"
     },
     "user_tz": 240
    },
    "id": "szv2oFgMcaJv",
    "outputId": "1b6837b3-fcb6-40d0-c456-2cfae20b071a"
   },
   "outputs": [
    {
     "data": {
      "text/plain": [
       "array([[0.5, 1. ],\n",
       "       [3. , 4. ],\n",
       "       [5. , 6. ]])"
      ]
     },
     "execution_count": 52,
     "metadata": {},
     "output_type": "execute_result"
    }
   ],
   "source": [
    "mat_1 / divisor"
   ]
  },
  {
   "cell_type": "code",
   "execution_count": 53,
   "metadata": {
    "id": "de902JjElM4W"
   },
   "outputs": [],
   "source": [
    "vec_4 = np.array([1, 2])"
   ]
  },
  {
   "cell_type": "code",
   "execution_count": 54,
   "metadata": {
    "colab": {
     "base_uri": "https://localhost:8080/"
    },
    "executionInfo": {
     "elapsed": 7,
     "status": "ok",
     "timestamp": 1665031019325,
     "user": {
      "displayName": "Samuel Lippl",
      "userId": "08154497855195492291"
     },
     "user_tz": 240
    },
    "id": "WOfbxyFRlQpe",
    "outputId": "e8d907f2-c730-474f-f82e-6fdaf44d56b6"
   },
   "outputs": [
    {
     "data": {
      "text/plain": [
       "(2,)"
      ]
     },
     "execution_count": 54,
     "metadata": {},
     "output_type": "execute_result"
    }
   ],
   "source": [
    "vec_4.shape"
   ]
  },
  {
   "cell_type": "code",
   "execution_count": 55,
   "metadata": {
    "colab": {
     "base_uri": "https://localhost:8080/"
    },
    "executionInfo": {
     "elapsed": 565,
     "status": "ok",
     "timestamp": 1665031025562,
     "user": {
      "displayName": "Samuel Lippl",
      "userId": "08154497855195492291"
     },
     "user_tz": 240
    },
    "id": "Aw0ed-0alRiq",
    "outputId": "bb6cf9a1-7bbb-4930-82bd-5e6051345aba"
   },
   "outputs": [
    {
     "data": {
      "text/plain": [
       "array([[2, 4],\n",
       "       [4, 6],\n",
       "       [6, 8]])"
      ]
     },
     "execution_count": 55,
     "metadata": {},
     "output_type": "execute_result"
    }
   ],
   "source": [
    "vec_4+mat_1"
   ]
  },
  {
   "cell_type": "markdown",
   "metadata": {
    "id": "LSYn6o4GmA7y"
   },
   "source": [
    "### Creating some arrays"
   ]
  },
  {
   "cell_type": "code",
   "execution_count": 56,
   "metadata": {
    "colab": {
     "base_uri": "https://localhost:8080/"
    },
    "executionInfo": {
     "elapsed": 9,
     "status": "ok",
     "timestamp": 1665031226940,
     "user": {
      "displayName": "Samuel Lippl",
      "userId": "08154497855195492291"
     },
     "user_tz": 240
    },
    "id": "zhFYbgS_mAUl",
    "outputId": "3bfe11ca-8aad-463c-9ce6-85b58b5d0200"
   },
   "outputs": [
    {
     "data": {
      "text/plain": [
       "array([0.  , 0.05, 0.1 , 0.15, 0.2 , 0.25, 0.3 , 0.35, 0.4 , 0.45, 0.5 ,\n",
       "       0.55, 0.6 , 0.65, 0.7 , 0.75, 0.8 , 0.85, 0.9 , 0.95, 1.  ])"
      ]
     },
     "execution_count": 56,
     "metadata": {},
     "output_type": "execute_result"
    }
   ],
   "source": [
    "np.linspace(0, 1, 21)"
   ]
  },
  {
   "cell_type": "code",
   "execution_count": 57,
   "metadata": {
    "colab": {
     "base_uri": "https://localhost:8080/"
    },
    "executionInfo": {
     "elapsed": 13,
     "status": "ok",
     "timestamp": 1665031229773,
     "user": {
      "displayName": "Samuel Lippl",
      "userId": "08154497855195492291"
     },
     "user_tz": 240
    },
    "id": "zX4_oVKWmD_A",
    "outputId": "d94cab20-5800-4551-b110-d7ad53f48716"
   },
   "outputs": [
    {
     "data": {
      "text/plain": [
       "array([0, 1, 2, 3, 4, 5, 6, 7, 8, 9])"
      ]
     },
     "execution_count": 57,
     "metadata": {},
     "output_type": "execute_result"
    }
   ],
   "source": [
    "np.arange(10)"
   ]
  },
  {
   "cell_type": "code",
   "execution_count": 58,
   "metadata": {
    "colab": {
     "base_uri": "https://localhost:8080/"
    },
    "executionInfo": {
     "elapsed": 533,
     "status": "ok",
     "timestamp": 1665031234734,
     "user": {
      "displayName": "Samuel Lippl",
      "userId": "08154497855195492291"
     },
     "user_tz": 240
    },
    "id": "WwLsYorRmE1K",
    "outputId": "1e050543-473a-44fe-8b8d-ed9780841f7c"
   },
   "outputs": [
    {
     "data": {
      "text/plain": [
       "array([1, 3, 5, 7, 9])"
      ]
     },
     "execution_count": 58,
     "metadata": {},
     "output_type": "execute_result"
    }
   ],
   "source": [
    "np.arange(1, 10, 2)"
   ]
  },
  {
   "cell_type": "code",
   "execution_count": 65,
   "metadata": {
    "colab": {
     "base_uri": "https://localhost:8080/"
    },
    "executionInfo": {
     "elapsed": 9,
     "status": "ok",
     "timestamp": 1665031240764,
     "user": {
      "displayName": "Samuel Lippl",
      "userId": "08154497855195492291"
     },
     "user_tz": 240
    },
    "id": "rX8g97GemF7M",
    "outputId": "616fe4de-af51-42c5-94f9-5da642cc9e6b"
   },
   "outputs": [],
   "source": [
    "l = np.ones((4, 2, 3), dtype = str)"
   ]
  },
  {
   "cell_type": "markdown",
   "metadata": {
    "id": "BdvzvNT1o1lx"
   },
   "source": [
    "### Question 2\n",
    "\n",
    "Below we're creating arrays with different shapes. Try predicting for each if elementwise addition would work, what shape the resulting array would have, then try it out and see if you were correct."
   ]
  },
  {
   "cell_type": "code",
   "execution_count": 66,
   "metadata": {
    "id": "8vtf-cISnZyy"
   },
   "outputs": [
    {
     "ename": "ValueError",
     "evalue": "operands could not be broadcast together with shapes (3,2) (2,3) ",
     "output_type": "error",
     "traceback": [
      "\u001b[0;31m---------------------------------------------------------------------------\u001b[0m",
      "\u001b[0;31mValueError\u001b[0m                                Traceback (most recent call last)",
      "Cell \u001b[0;32mIn[66], line 6\u001b[0m\n\u001b[1;32m      2\u001b[0m arr_2 \u001b[39m=\u001b[39m np\u001b[39m.\u001b[39mones((\u001b[39m2\u001b[39m,\u001b[39m3\u001b[39m))\n\u001b[1;32m      4\u001b[0m \u001b[39m# No\u001b[39;00m\n\u001b[0;32m----> 6\u001b[0m arr_1 \u001b[39m+\u001b[39;49m arr_2\n",
      "\u001b[0;31mValueError\u001b[0m: operands could not be broadcast together with shapes (3,2) (2,3) "
     ]
    }
   ],
   "source": [
    "arr_1 = np.ones((3,2))\n",
    "arr_2 = np.ones((2,3))\n",
    "\n",
    "# No, no shared dimensions\n",
    "\n",
    "arr_1 + arr_2"
   ]
  },
  {
   "cell_type": "code",
   "execution_count": 68,
   "metadata": {
    "id": "eX7dR8TJndJ9"
   },
   "outputs": [
    {
     "data": {
      "text/plain": [
       "array([[[2., 2., 2., 2., 2.],\n",
       "        [2., 2., 2., 2., 2.],\n",
       "        [2., 2., 2., 2., 2.],\n",
       "        [2., 2., 2., 2., 2.],\n",
       "        [2., 2., 2., 2., 2.],\n",
       "        [2., 2., 2., 2., 2.]],\n",
       "\n",
       "       [[2., 2., 2., 2., 2.],\n",
       "        [2., 2., 2., 2., 2.],\n",
       "        [2., 2., 2., 2., 2.],\n",
       "        [2., 2., 2., 2., 2.],\n",
       "        [2., 2., 2., 2., 2.],\n",
       "        [2., 2., 2., 2., 2.]],\n",
       "\n",
       "       [[2., 2., 2., 2., 2.],\n",
       "        [2., 2., 2., 2., 2.],\n",
       "        [2., 2., 2., 2., 2.],\n",
       "        [2., 2., 2., 2., 2.],\n",
       "        [2., 2., 2., 2., 2.],\n",
       "        [2., 2., 2., 2., 2.]],\n",
       "\n",
       "       [[2., 2., 2., 2., 2.],\n",
       "        [2., 2., 2., 2., 2.],\n",
       "        [2., 2., 2., 2., 2.],\n",
       "        [2., 2., 2., 2., 2.],\n",
       "        [2., 2., 2., 2., 2.],\n",
       "        [2., 2., 2., 2., 2.]]])"
      ]
     },
     "execution_count": 68,
     "metadata": {},
     "output_type": "execute_result"
    }
   ],
   "source": [
    "arr_1 = np.ones((4,1,5))\n",
    "arr_2 = np.ones((4,6,5))\n",
    "\n",
    "# Yes?\n",
    "# It will move down dimension w/ 6 rows adding the others t o it. \n",
    "\n",
    "arr_1 + arr_2"
   ]
  },
  {
   "cell_type": "code",
   "execution_count": 74,
   "metadata": {
    "id": "n5gRH_tvnnai"
   },
   "outputs": [
    {
     "data": {
      "text/plain": [
       "array([[[2., 2., 2., 2., 2.],\n",
       "        [2., 2., 2., 2., 2.],\n",
       "        [2., 2., 2., 2., 2.],\n",
       "        [2., 2., 2., 2., 2.],\n",
       "        [2., 2., 2., 2., 2.],\n",
       "        [2., 2., 2., 2., 2.]],\n",
       "\n",
       "       [[2., 2., 2., 2., 2.],\n",
       "        [2., 2., 2., 2., 2.],\n",
       "        [2., 2., 2., 2., 2.],\n",
       "        [2., 2., 2., 2., 2.],\n",
       "        [2., 2., 2., 2., 2.],\n",
       "        [2., 2., 2., 2., 2.]],\n",
       "\n",
       "       [[2., 2., 2., 2., 2.],\n",
       "        [2., 2., 2., 2., 2.],\n",
       "        [2., 2., 2., 2., 2.],\n",
       "        [2., 2., 2., 2., 2.],\n",
       "        [2., 2., 2., 2., 2.],\n",
       "        [2., 2., 2., 2., 2.]],\n",
       "\n",
       "       [[2., 2., 2., 2., 2.],\n",
       "        [2., 2., 2., 2., 2.],\n",
       "        [2., 2., 2., 2., 2.],\n",
       "        [2., 2., 2., 2., 2.],\n",
       "        [2., 2., 2., 2., 2.],\n",
       "        [2., 2., 2., 2., 2.]]])"
      ]
     },
     "execution_count": 74,
     "metadata": {},
     "output_type": "execute_result"
    }
   ],
   "source": [
    "arr_1 = np.ones((4,1,5))\n",
    "arr_2 = np.ones((4,6,1))\n",
    "\n",
    "# Yes\n",
    "# It will move across dimensions \n",
    "arr_1 + arr_2"
   ]
  },
  {
   "cell_type": "code",
   "execution_count": 75,
   "metadata": {
    "id": "3Hgh_ZD-nuvk"
   },
   "outputs": [
    {
     "data": {
      "text/plain": [
       "array([[[2., 2., 2., 2., 2.],\n",
       "        [2., 2., 2., 2., 2.],\n",
       "        [2., 2., 2., 2., 2.]],\n",
       "\n",
       "       [[2., 2., 2., 2., 2.],\n",
       "        [2., 2., 2., 2., 2.],\n",
       "        [2., 2., 2., 2., 2.]],\n",
       "\n",
       "       [[2., 2., 2., 2., 2.],\n",
       "        [2., 2., 2., 2., 2.],\n",
       "        [2., 2., 2., 2., 2.]],\n",
       "\n",
       "       [[2., 2., 2., 2., 2.],\n",
       "        [2., 2., 2., 2., 2.],\n",
       "        [2., 2., 2., 2., 2.]]])"
      ]
     },
     "execution_count": 75,
     "metadata": {},
     "output_type": "execute_result"
    }
   ],
   "source": [
    "arr_1 = np.ones((4,3,5))\n",
    "arr_2 = np.ones((3,5))\n",
    "\n",
    "# Yes it moves down the rows adding values\n",
    "arr_1 + arr_2"
   ]
  },
  {
   "cell_type": "code",
   "execution_count": 76,
   "metadata": {
    "id": "jBNPjK5gnyBF"
   },
   "outputs": [
    {
     "ename": "ValueError",
     "evalue": "operands could not be broadcast together with shapes (4,3,5) (4,3) ",
     "output_type": "error",
     "traceback": [
      "\u001b[0;31m---------------------------------------------------------------------------\u001b[0m",
      "\u001b[0;31mValueError\u001b[0m                                Traceback (most recent call last)",
      "Cell \u001b[0;32mIn[76], line 7\u001b[0m\n\u001b[1;32m      2\u001b[0m arr_2 \u001b[39m=\u001b[39m np\u001b[39m.\u001b[39mones((\u001b[39m4\u001b[39m,\u001b[39m3\u001b[39m))\n\u001b[1;32m      4\u001b[0m \u001b[39m# No\u001b[39;00m\n\u001b[1;32m      5\u001b[0m \u001b[39m# I don't know why, maybe because it doesn't know how to move through the 3rd dimension\u001b[39;00m\n\u001b[0;32m----> 7\u001b[0m arr_1 \u001b[39m+\u001b[39;49m arr_2\n",
      "\u001b[0;31mValueError\u001b[0m: operands could not be broadcast together with shapes (4,3,5) (4,3) "
     ]
    }
   ],
   "source": [
    "arr_1 = np.ones((4,3,5))\n",
    "arr_2 = np.ones((4,3))\n",
    "\n",
    "# No\n",
    "# I don't know why, maybe because it doesn't know how to move through the 3rd dimension\n",
    "# It reads it as \"4 groups of 3 x 5\"\n",
    "# The next row reads as 4 groups of 3. \n",
    "\n",
    "arr_1 + arr_2"
   ]
  },
  {
   "cell_type": "markdown",
   "metadata": {
    "id": "XHNc2woIoF4d"
   },
   "source": [
    "## Summary operations"
   ]
  },
  {
   "cell_type": "markdown",
   "metadata": {
    "id": "_X0AeYn3oF4f"
   },
   "source": [
    "Summary operations allow you to collapse an array according to a certain summary statistic. For instance, we may want to compute the overall mean firing rate in our experimental data:"
   ]
  },
  {
   "cell_type": "code",
   "execution_count": 77,
   "metadata": {
    "colab": {
     "base_uri": "https://localhost:8080/"
    },
    "executionInfo": {
     "elapsed": 7,
     "status": "ok",
     "timestamp": 1665031794773,
     "user": {
      "displayName": "Samuel Lippl",
      "userId": "08154497855195492291"
     },
     "user_tz": 240
    },
    "id": "4U_ibaS2oJCJ",
    "outputId": "94cae975-451f-4fc5-f79a-cfb508c2d26a"
   },
   "outputs": [
    {
     "data": {
      "text/plain": [
       "0.8717270073789571"
      ]
     },
     "execution_count": 77,
     "metadata": {},
     "output_type": "execute_result"
    }
   ],
   "source": [
    "arr.mean()"
   ]
  },
  {
   "cell_type": "markdown",
   "metadata": {
    "id": "f9-MA21KoRl2"
   },
   "source": [
    "You can also specify the axis along we want to average. For instance, maybe we want to average firing rates across individual trials:"
   ]
  },
  {
   "cell_type": "code",
   "execution_count": 78,
   "metadata": {
    "colab": {
     "base_uri": "https://localhost:8080/"
    },
    "executionInfo": {
     "elapsed": 7,
     "status": "ok",
     "timestamp": 1665031836134,
     "user": {
      "displayName": "Samuel Lippl",
      "userId": "08154497855195492291"
     },
     "user_tz": 240
    },
    "id": "t1gvQ6QUoYPk",
    "outputId": "18533a22-4ca6-4e32-943a-da6244f47432"
   },
   "outputs": [
    {
     "data": {
      "text/plain": [
       "(2, 10, 50, 2000)"
      ]
     },
     "execution_count": 78,
     "metadata": {},
     "output_type": "execute_result"
    }
   ],
   "source": [
    "arr.shape"
   ]
  },
  {
   "cell_type": "code",
   "execution_count": 81,
   "metadata": {
    "id": "HfVJ_KpwoYz_"
   },
   "outputs": [],
   "source": [
    "arr_across_trials = arr.mean(axis=1)\n",
    "\n",
    "# This averages over each of the 10 "
   ]
  },
  {
   "cell_type": "code",
   "execution_count": 82,
   "metadata": {
    "colab": {
     "base_uri": "https://localhost:8080/"
    },
    "executionInfo": {
     "elapsed": 436,
     "status": "ok",
     "timestamp": 1665031855779,
     "user": {
      "displayName": "Samuel Lippl",
      "userId": "08154497855195492291"
     },
     "user_tz": 240
    },
    "id": "0HsGHmTAocjO",
    "outputId": "0abcd664-a8ae-4e8c-cbfb-dc2a39d94833"
   },
   "outputs": [
    {
     "data": {
      "text/plain": [
       "(10, 50, 2000)"
      ]
     },
     "execution_count": 82,
     "metadata": {},
     "output_type": "execute_result"
    }
   ],
   "source": [
    "arr_across_trials.shape"
   ]
  },
  {
   "cell_type": "markdown",
   "metadata": {
    "id": "MUVYhRhlpkki"
   },
   "source": [
    "The `keepdims` argument means that you don't remove the dimensions you're averaging over, but rather set their length to 1:"
   ]
  },
  {
   "cell_type": "code",
   "execution_count": 83,
   "metadata": {
    "id": "npaRvYsIpijK"
   },
   "outputs": [],
   "source": [
    "arr_across_trials = arr.mean(axis=1, keepdims=True)"
   ]
  },
  {
   "cell_type": "code",
   "execution_count": 84,
   "metadata": {
    "colab": {
     "base_uri": "https://localhost:8080/"
    },
    "executionInfo": {
     "elapsed": 7,
     "status": "ok",
     "timestamp": 1665032223419,
     "user": {
      "displayName": "Samuel Lippl",
      "userId": "08154497855195492291"
     },
     "user_tz": 240
    },
    "id": "aPIylJSUp2hF",
    "outputId": "61fe4319-1248-4d08-aea0-5a638939d600"
   },
   "outputs": [
    {
     "data": {
      "text/plain": [
       "(2, 1, 50, 2000)"
      ]
     },
     "execution_count": 84,
     "metadata": {},
     "output_type": "execute_result"
    }
   ],
   "source": [
    "arr_across_trials.shape"
   ]
  },
  {
   "cell_type": "markdown",
   "metadata": {
    "id": "PAQEXyjdokWV"
   },
   "source": [
    "You can average across multiple axes as well. For instance, maybe you want to average across both trials and time:"
   ]
  },
  {
   "cell_type": "code",
   "execution_count": 85,
   "metadata": {
    "id": "b-x8H3Aiojvs"
   },
   "outputs": [],
   "source": [
    "arr_across_trials_and_time = arr.mean(axis=(1,3))"
   ]
  },
  {
   "cell_type": "code",
   "execution_count": 86,
   "metadata": {
    "colab": {
     "base_uri": "https://localhost:8080/"
    },
    "executionInfo": {
     "elapsed": 3,
     "status": "ok",
     "timestamp": 1665032103812,
     "user": {
      "displayName": "Samuel Lippl",
      "userId": "08154497855195492291"
     },
     "user_tz": 240
    },
    "id": "CN2sn16wpY3X",
    "outputId": "5ba79611-6f89-4728-c540-6d927702b79b"
   },
   "outputs": [
    {
     "data": {
      "text/plain": [
       "(2, 50)"
      ]
     },
     "execution_count": 86,
     "metadata": {},
     "output_type": "execute_result"
    }
   ],
   "source": [
    "arr_across_trials_and_time.shape"
   ]
  },
  {
   "cell_type": "markdown",
   "metadata": {
    "id": "D7CT8DwVp5SY"
   },
   "source": [
    "### Question 3\n",
    "\n",
    "- What is the average firing rate across all neurons, times, and trials for each condition?\n",
    "- (Advanced.) Subtract the average firing rate per time across all neurons, trials, and conditions from the original array."
   ]
  },
  {
   "cell_type": "code",
   "execution_count": 92,
   "metadata": {},
   "outputs": [
    {
     "name": "stdout",
     "output_type": "stream",
     "text": [
      "[[[[0.98828779]]]\n",
      "\n",
      "\n",
      " [[[0.75516623]]]]\n"
     ]
    }
   ],
   "source": [
    "arr_across_trials_neurons_and_time = arr.mean(axis=(1,2,3),keepdims= True)\n",
    "print(arr_across_trials_neurons_and_time)"
   ]
  },
  {
   "cell_type": "code",
   "execution_count": 93,
   "metadata": {},
   "outputs": [
    {
     "data": {
      "text/plain": [
       "array([[[[-0.88155214, -0.13827436, -0.92216159, ...,  0.23385509,\n",
       "           0.86605031, -0.95851623],\n",
       "         [ 0.75755503,  0.05805767,  0.20632473, ..., -0.60129303,\n",
       "          -0.84202999, -0.43061892],\n",
       "         [ 0.28832073,  0.64953224,  0.74248875, ..., -0.71910935,\n",
       "          -0.10076904, -0.49087812],\n",
       "         ...,\n",
       "         [-0.8543101 , -0.8262999 , -0.54180719, ..., -0.54833535,\n",
       "          -0.34569354,  0.24699028],\n",
       "         [ 1.4873548 ,  0.70584668,  1.13588681, ...,  1.63072314,\n",
       "           2.12417725,  0.93197903],\n",
       "         [-0.25864358,  1.05850998,  0.39130579, ...,  0.75370431,\n",
       "           1.12210222, -0.08958452]],\n",
       "\n",
       "        [[-0.17750267, -0.05522537, -0.72890867, ...,  0.32714956,\n",
       "           0.30793807,  0.24924006],\n",
       "         [-0.42154193, -0.19955491,  0.10524853, ..., -0.49307566,\n",
       "          -0.76939124, -0.43324843],\n",
       "         [-0.10538628, -0.30135353,  0.26236271, ..., -0.08382729,\n",
       "          -0.52821357, -0.55007082],\n",
       "         ...,\n",
       "         [-0.95183856, -0.41724062, -0.49294607, ..., -0.39424755,\n",
       "          -0.70693633, -0.79581135],\n",
       "         [ 0.61660845,  1.56802765,  0.85086766, ...,  0.87350284,\n",
       "           1.81734915,  1.8059808 ],\n",
       "         [-0.01249796, -0.17800592,  0.89618262, ...,  0.5894059 ,\n",
       "           0.55479183, -0.3370981 ]],\n",
       "\n",
       "        [[-0.3686271 ,  0.45574587, -0.26311022, ..., -0.36763648,\n",
       "           0.43418374, -0.258638  ],\n",
       "         [-0.3465487 ,  0.10420064, -0.3757883 , ..., -0.95813494,\n",
       "          -0.09708434, -0.47115405],\n",
       "         [-0.12470205,  1.29920938, -0.5026212 , ..., -0.36722841,\n",
       "           0.61084748, -0.79621698],\n",
       "         ...,\n",
       "         [-0.9422206 , -0.76001548, -0.52583632, ..., -0.25766173,\n",
       "          -0.75991348, -0.16770929],\n",
       "         [ 1.25209215,  0.8851783 ,  0.9767346 , ...,  1.32097203,\n",
       "           1.74919916,  2.57260445],\n",
       "         [ 0.16320094,  0.42629883, -0.71329895, ...,  0.71021976,\n",
       "           1.55516891, -0.03031873]],\n",
       "\n",
       "        ...,\n",
       "\n",
       "        [[-0.03279001, -0.5825953 , -0.20946457, ..., -0.54449653,\n",
       "          -0.30053021, -0.41015619],\n",
       "         [ 0.27834963, -0.24672207, -0.01372184, ..., -0.77285634,\n",
       "          -0.06417469, -0.11352188],\n",
       "         [ 0.05667878,  0.93664263,  0.32778713, ..., -0.28936481,\n",
       "          -0.09284916,  0.11977642],\n",
       "         ...,\n",
       "         [-0.28863346, -0.71900542, -0.19543703, ..., -0.45268616,\n",
       "          -0.54823072, -0.28420555],\n",
       "         [ 0.11042285,  1.12921617,  0.54884704, ...,  1.87754808,\n",
       "           2.49052345,  2.06342006],\n",
       "         [-0.61918878,  0.17441577, -0.166058  , ...,  1.0139573 ,\n",
       "           0.21086572,  0.23560855]],\n",
       "\n",
       "        [[-0.67671443, -0.83632713, -0.45883861, ..., -0.35463297,\n",
       "          -0.67613214,  0.02675371],\n",
       "         [-0.04576845,  0.05971948,  0.64248488, ..., -0.5087494 ,\n",
       "          -0.8843472 , -0.89771339],\n",
       "         [ 0.20485144,  0.23695849, -0.62559559, ..., -0.37155025,\n",
       "          -0.13039136, -0.39262624],\n",
       "         ...,\n",
       "         [-0.14683327, -0.10616989, -0.52255121, ..., -0.8850336 ,\n",
       "          -0.57655922,  0.07826631],\n",
       "         [ 1.16460084,  1.62287502,  0.24244495, ...,  2.15732307,\n",
       "           1.55637989,  1.30276201],\n",
       "         [-0.05549516, -0.94182557, -0.97511452, ..., -0.41534824,\n",
       "           0.49028839,  0.62574313]],\n",
       "\n",
       "        [[-0.69187364, -0.51362977, -0.50225367, ...,  0.25290938,\n",
       "           0.03732013, -0.91834962],\n",
       "         [-0.74270892, -0.01579438, -0.30247189, ...,  0.23112402,\n",
       "          -0.94881883,  0.07173417],\n",
       "         [ 0.08059993,  0.0516993 , -0.39337523, ..., -0.44813283,\n",
       "           0.24876403, -0.06853588],\n",
       "         ...,\n",
       "         [-0.86561606,  0.14740535, -0.59155114, ..., -0.27967483,\n",
       "          -0.64810852, -0.70396221],\n",
       "         [ 1.70090503,  0.63181672,  1.17189931, ...,  1.27492864,\n",
       "           1.74858696,  1.98964427],\n",
       "         [ 0.22878375,  0.00503381, -0.52549141, ..., -0.0556345 ,\n",
       "           0.50362113, -0.60237461]]],\n",
       "\n",
       "\n",
       "       [[[-0.48657572, -0.52422729, -0.64387458, ...,  0.25189057,\n",
       "          -0.66809074,  0.3883424 ],\n",
       "         [-0.69693831,  0.35445512, -0.66998265, ...,  0.27622882,\n",
       "           0.87965534,  0.35658255],\n",
       "         [ 0.15172378, -0.70013349,  0.00707061, ...,  0.16610199,\n",
       "           1.1450564 , -0.09367571],\n",
       "         ...,\n",
       "         [ 0.76123054,  0.35008434,  0.52966184, ..., -0.49792672,\n",
       "           0.16931564, -0.71590858],\n",
       "         [-0.50609552, -0.36452126, -0.23475168, ...,  1.11209946,\n",
       "           0.52231536,  1.42127265],\n",
       "         [-0.16335129, -0.18407897, -0.74425994, ...,  0.70726289,\n",
       "           1.05322379,  1.2922192 ]],\n",
       "\n",
       "        [[-0.58139914, -0.01512333, -0.4767202 , ...,  0.30321193,\n",
       "          -0.07783796, -0.59855325],\n",
       "         [ 0.14529825, -0.35270872, -0.74755115, ...,  0.96823865,\n",
       "           0.38378356,  1.53697988],\n",
       "         [-0.13250906,  0.02873948,  0.08497636, ..., -0.0236501 ,\n",
       "           0.40581617,  0.50590179],\n",
       "         ...,\n",
       "         [ 0.44123163,  0.38312127, -0.25207348, ...,  0.03270054,\n",
       "          -0.66720075,  0.29497648],\n",
       "         [-0.74097311, -0.24390814,  0.20477464, ...,  1.34614732,\n",
       "           0.64158187, -0.5213103 ],\n",
       "         [-0.389036  , -0.3715911 , -0.74871535, ...,  0.42642949,\n",
       "           1.03018079,  0.82708533]],\n",
       "\n",
       "        [[-0.51334578, -0.7198859 , -0.75396423, ...,  0.06461119,\n",
       "           0.58759357,  0.10878709],\n",
       "         [-0.28006828, -0.75266698, -0.44636589, ...,  1.00412623,\n",
       "           0.94963708,  0.73181383],\n",
       "         [-0.4462594 ,  0.64673052, -0.19903489, ...,  0.13904194,\n",
       "           0.30025569, -0.42042768],\n",
       "         ...,\n",
       "         [-0.75301271, -0.4817339 ,  1.14978921, ..., -0.56238709,\n",
       "          -0.71527076, -0.54957859],\n",
       "         [ 0.37824384, -0.46797781, -0.32429503, ...,  1.32121227,\n",
       "          -0.013504  ,  0.93066566],\n",
       "         [-0.57698563, -0.37032853,  0.16045827, ...,  0.47686528,\n",
       "           0.94759623,  0.22792959]],\n",
       "\n",
       "        ...,\n",
       "\n",
       "        [[-0.36559659, -0.45429314,  0.09826523, ...,  0.1018471 ,\n",
       "          -0.618797  ,  0.48570996],\n",
       "         [-0.26088599,  0.59926612, -0.10806411, ...,  0.97554469,\n",
       "           1.4681046 ,  0.26283075],\n",
       "         [-0.13490306, -0.70348383, -0.18753503, ...,  0.379176  ,\n",
       "           0.0726509 ,  0.46213062],\n",
       "         ...,\n",
       "         [-0.66461442, -0.39856438, -0.54806419, ..., -0.50585104,\n",
       "          -0.72517246, -0.34879174],\n",
       "         [-0.41238216, -0.61586572, -0.11788867, ...,  1.68638851,\n",
       "           0.85131406,  1.20363277],\n",
       "         [-0.48878228, -0.28375381,  0.32647772, ...,  0.58498885,\n",
       "           0.4750362 , -0.27154345]],\n",
       "\n",
       "        [[-0.4366657 ,  0.00634647, -0.71918578, ...,  0.28800573,\n",
       "           0.19642859,  0.09653647],\n",
       "         [ 0.23869331, -0.74054942, -0.10914233, ...,  0.55093199,\n",
       "           0.15189815,  0.61733551],\n",
       "         [-0.44687479, -0.24187879,  0.26085713, ..., -0.53098041,\n",
       "           0.83840712, -0.63165585],\n",
       "         ...,\n",
       "         [-0.1871951 , -0.60510388,  0.39619497, ..., -0.3148567 ,\n",
       "          -0.14506832,  0.04439372],\n",
       "         [-0.52972027,  0.12844405,  0.80289289, ...,  0.29599798,\n",
       "           0.1867865 ,  1.13570744],\n",
       "         [-0.63685567, -0.53883822,  0.32452134, ...,  0.49578796,\n",
       "           1.07392974, -0.00868048]],\n",
       "\n",
       "        [[-0.56883866, -0.49191973, -0.44744815, ..., -0.23297532,\n",
       "           0.82000692,  0.90721378],\n",
       "         [-0.70219219, -0.45207152,  0.5667663 , ...,  0.47919314,\n",
       "           0.7147061 ,  0.30607337],\n",
       "         [ 0.7108832 , -0.58969675, -0.70554685, ..., -0.57238588,\n",
       "           0.10128524, -0.7191674 ],\n",
       "         ...,\n",
       "         [-0.35601625, -0.2646803 , -0.34563091, ..., -0.26946064,\n",
       "          -0.71017009,  0.06788506],\n",
       "         [-0.47525969, -0.57610407,  0.74832829, ...,  1.42399603,\n",
       "           0.44111512,  0.67018812],\n",
       "         [-0.24596555,  0.29458177, -0.68070756, ...,  1.79933144,\n",
       "           1.33301657,  0.59468153]]]])"
      ]
     },
     "execution_count": 93,
     "metadata": {},
     "output_type": "execute_result"
    }
   ],
   "source": [
    "arr - arr_across_trials_neurons_and_time"
   ]
  },
  {
   "cell_type": "markdown",
   "metadata": {
    "id": "LdgHsGL8uPJe"
   },
   "source": [
    "## Indexing"
   ]
  },
  {
   "cell_type": "markdown",
   "metadata": {
    "id": "sKsm931VIZJW"
   },
   "source": [
    "Indexing in vectors works just as in lists:"
   ]
  },
  {
   "cell_type": "code",
   "execution_count": 94,
   "metadata": {
    "colab": {
     "base_uri": "https://localhost:8080/"
    },
    "executionInfo": {
     "elapsed": 494,
     "status": "ok",
     "timestamp": 1665032452692,
     "user": {
      "displayName": "Samuel Lippl",
      "userId": "08154497855195492291"
     },
     "user_tz": 240
    },
    "id": "V5-v-1yJ4rT3",
    "outputId": "b80b51bd-a80a-4048-fe69-1f960ece5a7d"
   },
   "outputs": [
    {
     "data": {
      "text/plain": [
       "array([ 3,  7, 10])"
      ]
     },
     "execution_count": 94,
     "metadata": {},
     "output_type": "execute_result"
    }
   ],
   "source": [
    "vec_1"
   ]
  },
  {
   "cell_type": "code",
   "execution_count": 95,
   "metadata": {
    "colab": {
     "base_uri": "https://localhost:8080/"
    },
    "executionInfo": {
     "elapsed": 6,
     "status": "ok",
     "timestamp": 1665032453022,
     "user": {
      "displayName": "Samuel Lippl",
      "userId": "08154497855195492291"
     },
     "user_tz": 240
    },
    "id": "eIEWdFR84sO5",
    "outputId": "10801a3b-cc20-4415-af5a-d1b3b1f63a02"
   },
   "outputs": [
    {
     "data": {
      "text/plain": [
       "3"
      ]
     },
     "execution_count": 95,
     "metadata": {},
     "output_type": "execute_result"
    }
   ],
   "source": [
    "vec_1[0]"
   ]
  },
  {
   "cell_type": "markdown",
   "metadata": {
    "id": "PPbsSdmiInSS"
   },
   "source": [
    "For matrices and higher-dimensional arrays, a single index selects a single row:"
   ]
  },
  {
   "cell_type": "code",
   "execution_count": 96,
   "metadata": {
    "colab": {
     "base_uri": "https://localhost:8080/"
    },
    "executionInfo": {
     "elapsed": 5,
     "status": "ok",
     "timestamp": 1665032517725,
     "user": {
      "displayName": "Samuel Lippl",
      "userId": "08154497855195492291"
     },
     "user_tz": 240
    },
    "id": "qkstcucC4v1X",
    "outputId": "d806a453-86d7-44a2-9052-25284761ea9a"
   },
   "outputs": [
    {
     "data": {
      "text/plain": [
       "array([[1, 2],\n",
       "       [3, 4],\n",
       "       [5, 6]])"
      ]
     },
     "execution_count": 96,
     "metadata": {},
     "output_type": "execute_result"
    }
   ],
   "source": [
    "mat_1"
   ]
  },
  {
   "cell_type": "code",
   "execution_count": 97,
   "metadata": {
    "colab": {
     "base_uri": "https://localhost:8080/"
    },
    "executionInfo": {
     "elapsed": 6,
     "status": "ok",
     "timestamp": 1665032518253,
     "user": {
      "displayName": "Samuel Lippl",
      "userId": "08154497855195492291"
     },
     "user_tz": 240
    },
    "id": "QA_-MxKyqxAF",
    "outputId": "040551f6-a86f-42ef-ef4b-b38651e17c60"
   },
   "outputs": [
    {
     "data": {
      "text/plain": [
       "array([1, 2])"
      ]
     },
     "execution_count": 97,
     "metadata": {},
     "output_type": "execute_result"
    }
   ],
   "source": [
    "mat_1[0]"
   ]
  },
  {
   "cell_type": "code",
   "execution_count": 98,
   "metadata": {
    "colab": {
     "base_uri": "https://localhost:8080/"
    },
    "executionInfo": {
     "elapsed": 306,
     "status": "ok",
     "timestamp": 1665032519995,
     "user": {
      "displayName": "Samuel Lippl",
      "userId": "08154497855195492291"
     },
     "user_tz": 240
    },
    "id": "1QEO6aFDtOnN",
    "outputId": "e81f8ab1-b849-4185-97b5-40869f0fc5ab"
   },
   "outputs": [
    {
     "data": {
      "text/plain": [
       "2"
      ]
     },
     "execution_count": 98,
     "metadata": {},
     "output_type": "execute_result"
    }
   ],
   "source": [
    "mat_1[0][1]"
   ]
  },
  {
   "cell_type": "markdown",
   "metadata": {
    "id": "UgApyUCXIu3B"
   },
   "source": [
    "Instead of using two brackets, you can also separate the row and column index by a comma:"
   ]
  },
  {
   "cell_type": "code",
   "execution_count": 99,
   "metadata": {
    "colab": {
     "base_uri": "https://localhost:8080/"
    },
    "executionInfo": {
     "elapsed": 291,
     "status": "ok",
     "timestamp": 1665032525064,
     "user": {
      "displayName": "Samuel Lippl",
      "userId": "08154497855195492291"
     },
     "user_tz": 240
    },
    "id": "9nTJdwrQI0Wy",
    "outputId": "b2f058f2-d9b8-4138-c3ea-564413d85d9e"
   },
   "outputs": [
    {
     "name": "stdout",
     "output_type": "stream",
     "text": [
      "1\n",
      "1\n"
     ]
    }
   ],
   "source": [
    "# The following two lines of code are equivalent\n",
    "print(mat_1[0][0])\n",
    "print(mat_1[0,0])"
   ]
  },
  {
   "cell_type": "markdown",
   "metadata": {
    "id": "UzUXMPzYJFBZ"
   },
   "source": [
    "### Slicing"
   ]
  },
  {
   "cell_type": "markdown",
   "metadata": {
    "id": "Y7PMotYdJH0F"
   },
   "source": [
    "Slicing is a useful way of extracting more than one element. In particular, `j:k` extracts the elements j,...,k-1:"
   ]
  },
  {
   "cell_type": "code",
   "execution_count": 101,
   "metadata": {
    "colab": {
     "base_uri": "https://localhost:8080/"
    },
    "executionInfo": {
     "elapsed": 292,
     "status": "ok",
     "timestamp": 1665032636045,
     "user": {
      "displayName": "Samuel Lippl",
      "userId": "08154497855195492291"
     },
     "user_tz": 240
    },
    "id": "j2HmNafso_i4",
    "outputId": "31d9e0da-165c-441e-b618-933aa8c5538a"
   },
   "outputs": [
    {
     "name": "stdout",
     "output_type": "stream",
     "text": [
      "[0 1 2 3 4 5 6 7 8 9]\n"
     ]
    }
   ],
   "source": [
    "vec = np.arange(10)\n",
    "print(vec)"
   ]
  },
  {
   "cell_type": "code",
   "execution_count": 102,
   "metadata": {
    "colab": {
     "base_uri": "https://localhost:8080/"
    },
    "executionInfo": {
     "elapsed": 285,
     "status": "ok",
     "timestamp": 1664985907594,
     "user": {
      "displayName": "Samuel Lippl",
      "userId": "08154497855195492291"
     },
     "user_tz": 240
    },
    "id": "Bo-lVYvaJULH",
    "outputId": "e726093a-8439-4745-8a35-1d06277e94ba"
   },
   "outputs": [
    {
     "data": {
      "text/plain": [
       "array([3, 4, 5, 6])"
      ]
     },
     "execution_count": 102,
     "metadata": {},
     "output_type": "execute_result"
    }
   ],
   "source": [
    "vec[3:7]"
   ]
  },
  {
   "cell_type": "markdown",
   "metadata": {
    "id": "KGYH6PlTJXUa"
   },
   "source": [
    "We can leave either end of the range away and it will default to the beginning and the end of the list, respectively."
   ]
  },
  {
   "cell_type": "code",
   "execution_count": 103,
   "metadata": {
    "colab": {
     "base_uri": "https://localhost:8080/"
    },
    "executionInfo": {
     "elapsed": 299,
     "status": "ok",
     "timestamp": 1664985922546,
     "user": {
      "displayName": "Samuel Lippl",
      "userId": "08154497855195492291"
     },
     "user_tz": 240
    },
    "id": "KCYXfjBOJWrO",
    "outputId": "dd551c56-c670-4a41-efcb-f106115fdc96"
   },
   "outputs": [
    {
     "data": {
      "text/plain": [
       "array([0, 1, 2, 3, 4, 5, 6])"
      ]
     },
     "execution_count": 103,
     "metadata": {},
     "output_type": "execute_result"
    }
   ],
   "source": [
    "vec[:7]"
   ]
  },
  {
   "cell_type": "code",
   "execution_count": 104,
   "metadata": {
    "colab": {
     "base_uri": "https://localhost:8080/"
    },
    "executionInfo": {
     "elapsed": 204,
     "status": "ok",
     "timestamp": 1664985927248,
     "user": {
      "displayName": "Samuel Lippl",
      "userId": "08154497855195492291"
     },
     "user_tz": 240
    },
    "id": "BCLi7iPsourR",
    "outputId": "866a70fe-a4d5-4f96-ccad-915bb543a8cd"
   },
   "outputs": [
    {
     "data": {
      "text/plain": [
       "array([3, 4, 5, 6, 7, 8, 9])"
      ]
     },
     "execution_count": 104,
     "metadata": {},
     "output_type": "execute_result"
    }
   ],
   "source": [
    "vec[3:]"
   ]
  },
  {
   "cell_type": "code",
   "execution_count": 105,
   "metadata": {
    "colab": {
     "base_uri": "https://localhost:8080/"
    },
    "executionInfo": {
     "elapsed": 298,
     "status": "ok",
     "timestamp": 1664985939239,
     "user": {
      "displayName": "Samuel Lippl",
      "userId": "08154497855195492291"
     },
     "user_tz": 240
    },
    "id": "sCtRzOkxpvtF",
    "outputId": "4a3d6db2-056e-47b6-8550-8ca9b1447117"
   },
   "outputs": [
    {
     "data": {
      "text/plain": [
       "array([0, 1, 2, 3, 4, 5, 6, 7, 8, 9])"
      ]
     },
     "execution_count": 105,
     "metadata": {},
     "output_type": "execute_result"
    }
   ],
   "source": [
    "vec[:] # What do you think this will do?"
   ]
  },
  {
   "cell_type": "markdown",
   "metadata": {
    "id": "oSg-s95Vp_6M"
   },
   "source": [
    "You can therefore also use the colon to select all rows of a matrix and specific columns."
   ]
  },
  {
   "cell_type": "code",
   "execution_count": 106,
   "metadata": {
    "colab": {
     "base_uri": "https://localhost:8080/"
    },
    "executionInfo": {
     "elapsed": 496,
     "status": "ok",
     "timestamp": 1664850778986,
     "user": {
      "displayName": "Jasmine Stone",
      "userId": "01448888124801736627"
     },
     "user_tz": 240
    },
    "id": "PfObJZyVqVkN",
    "outputId": "5af2c7ea-d83b-4f71-b84d-301101f9055f"
   },
   "outputs": [
    {
     "data": {
      "text/plain": [
       "array([[1, 2],\n",
       "       [3, 4],\n",
       "       [5, 6]])"
      ]
     },
     "execution_count": 106,
     "metadata": {},
     "output_type": "execute_result"
    }
   ],
   "source": [
    "mat_1"
   ]
  },
  {
   "cell_type": "code",
   "execution_count": 107,
   "metadata": {
    "colab": {
     "base_uri": "https://localhost:8080/"
    },
    "executionInfo": {
     "elapsed": 5,
     "status": "ok",
     "timestamp": 1665032577962,
     "user": {
      "displayName": "Samuel Lippl",
      "userId": "08154497855195492291"
     },
     "user_tz": 240
    },
    "id": "3HqeoHnTp-bF",
    "outputId": "205a7ce1-9d1c-4a9e-9dbc-fb72807e093c"
   },
   "outputs": [
    {
     "data": {
      "text/plain": [
       "array([1, 3, 5])"
      ]
     },
     "execution_count": 107,
     "metadata": {},
     "output_type": "execute_result"
    }
   ],
   "source": [
    "mat_1[:,0]"
   ]
  },
  {
   "cell_type": "markdown",
   "metadata": {
    "id": "A84qrlXAqg7c"
   },
   "source": [
    "You can add another colon to specify a step size, similarly to how you would use these three arguments in `range`."
   ]
  },
  {
   "cell_type": "code",
   "execution_count": 111,
   "metadata": {
    "colab": {
     "base_uri": "https://localhost:8080/"
    },
    "executionInfo": {
     "elapsed": 7,
     "status": "ok",
     "timestamp": 1664985997395,
     "user": {
      "displayName": "Samuel Lippl",
      "userId": "08154497855195492291"
     },
     "user_tz": 240
    },
    "id": "KhL-XFw5qf3v",
    "outputId": "22513912-b855-4256-8bf2-d2540f7ed749"
   },
   "outputs": [
    {
     "data": {
      "text/plain": [
       "array([3, 5])"
      ]
     },
     "execution_count": 111,
     "metadata": {},
     "output_type": "execute_result"
    }
   ],
   "source": [
    "vec[3:7:2]"
   ]
  },
  {
   "cell_type": "markdown",
   "metadata": {
    "id": "K6IFZsQkrX4p"
   },
   "source": [
    "We could still leave away the beginning or the end of the slice:"
   ]
  },
  {
   "cell_type": "code",
   "execution_count": 109,
   "metadata": {
    "colab": {
     "base_uri": "https://localhost:8080/"
    },
    "executionInfo": {
     "elapsed": 309,
     "status": "ok",
     "timestamp": 1665032637677,
     "user": {
      "displayName": "Samuel Lippl",
      "userId": "08154497855195492291"
     },
     "user_tz": 240
    },
    "id": "D0CDln9nrXIg",
    "outputId": "c832b9be-87db-40d6-a67b-4997c7fc99bf"
   },
   "outputs": [
    {
     "data": {
      "text/plain": [
       "array([0, 2, 4, 6, 8])"
      ]
     },
     "execution_count": 109,
     "metadata": {},
     "output_type": "execute_result"
    }
   ],
   "source": [
    "vec[::2]"
   ]
  },
  {
   "cell_type": "markdown",
   "metadata": {
    "id": "9Gu8lNI_rS9Q"
   },
   "source": [
    "### Question 4\n",
    "Predict the output of the following commands:"
   ]
  },
  {
   "cell_type": "code",
   "execution_count": 110,
   "metadata": {
    "colab": {
     "base_uri": "https://localhost:8080/"
    },
    "executionInfo": {
     "elapsed": 7,
     "status": "ok",
     "timestamp": 1665032665467,
     "user": {
      "displayName": "Samuel Lippl",
      "userId": "08154497855195492291"
     },
     "user_tz": 240
    },
    "id": "yNs8daxLri0i",
    "outputId": "0eab182b-5569-4623-f742-801dd789820a"
   },
   "outputs": [
    {
     "data": {
      "text/plain": [
       "array([0, 1, 2, 3])"
      ]
     },
     "execution_count": 110,
     "metadata": {},
     "output_type": "execute_result"
    }
   ],
   "source": [
    "vec[:4]"
   ]
  },
  {
   "cell_type": "code",
   "execution_count": 112,
   "metadata": {
    "colab": {
     "base_uri": "https://localhost:8080/"
    },
    "executionInfo": {
     "elapsed": 298,
     "status": "ok",
     "timestamp": 1665032648909,
     "user": {
      "displayName": "Samuel Lippl",
      "userId": "08154497855195492291"
     },
     "user_tz": 240
    },
    "id": "-90xe62IrSPy",
    "outputId": "b87dc685-f2e8-4935-a80f-8178f296c191"
   },
   "outputs": [
    {
     "data": {
      "text/plain": [
       "array([5, 7])"
      ]
     },
     "execution_count": 112,
     "metadata": {},
     "output_type": "execute_result"
    }
   ],
   "source": [
    "vec[5:9:2] # Iterates stepwise"
   ]
  },
  {
   "cell_type": "code",
   "execution_count": 113,
   "metadata": {
    "colab": {
     "base_uri": "https://localhost:8080/"
    },
    "executionInfo": {
     "elapsed": 5,
     "status": "ok",
     "timestamp": 1665032655521,
     "user": {
      "displayName": "Samuel Lippl",
      "userId": "08154497855195492291"
     },
     "user_tz": 240
    },
    "id": "XZLdgm1CCwTf",
    "outputId": "f50c4c83-38aa-4e92-8da1-9a77157c83ca"
   },
   "outputs": [
    {
     "data": {
      "text/plain": [
       "array([0, 2, 4, 6])"
      ]
     },
     "execution_count": 113,
     "metadata": {},
     "output_type": "execute_result"
    }
   ],
   "source": [
    "vec[:7:2]\n",
    "# Goes from the beginning "
   ]
  },
  {
   "cell_type": "code",
   "execution_count": null,
   "metadata": {
    "colab": {
     "base_uri": "https://localhost:8080/"
    },
    "executionInfo": {
     "elapsed": 7,
     "status": "ok",
     "timestamp": 1665032658959,
     "user": {
      "displayName": "Samuel Lippl",
      "userId": "08154497855195492291"
     },
     "user_tz": 240
    },
    "id": "7otovAU_rg9a",
    "outputId": "de6f80e6-cc3c-4e5c-faf6-96be2621a400"
   },
   "outputs": [],
   "source": [
    "vec[2::2]"
   ]
  },
  {
   "cell_type": "markdown",
   "metadata": {
    "id": "XBw_AOc0rSyF"
   },
   "source": [
    "### Boolean indexing"
   ]
  },
  {
   "cell_type": "markdown",
   "metadata": {
    "id": "FG9TiQuZrVuU"
   },
   "source": [
    "Do you remember how to create an array that is true if and only if `vec` is smaller than 5?"
   ]
  },
  {
   "cell_type": "code",
   "execution_count": 114,
   "metadata": {
    "colab": {
     "base_uri": "https://localhost:8080/"
    },
    "executionInfo": {
     "elapsed": 154,
     "status": "ok",
     "timestamp": 1664986583585,
     "user": {
      "displayName": "Samuel Lippl",
      "userId": "08154497855195492291"
     },
     "user_tz": 240
    },
    "id": "b8O9g9rT7v1J",
    "outputId": "d68634ac-49de-4cb1-b75e-0cfa357e858f"
   },
   "outputs": [
    {
     "data": {
      "text/plain": [
       "array([0, 1, 2, 3, 4, 5, 6, 7, 8, 9])"
      ]
     },
     "execution_count": 114,
     "metadata": {},
     "output_type": "execute_result"
    }
   ],
   "source": [
    "vec = np.arange(10)\n",
    "vec"
   ]
  },
  {
   "cell_type": "code",
   "execution_count": 115,
   "metadata": {
    "colab": {
     "base_uri": "https://localhost:8080/"
    },
    "executionInfo": {
     "elapsed": 9,
     "status": "ok",
     "timestamp": 1664987029997,
     "user": {
      "displayName": "Samuel Lippl",
      "userId": "08154497855195492291"
     },
     "user_tz": 240
    },
    "id": "x9ZXEpI4rRwN",
    "outputId": "871f961d-8c80-480e-d72a-790d7b98f14c"
   },
   "outputs": [
    {
     "data": {
      "text/plain": [
       "array([ True,  True,  True,  True,  True,  True, False, False, False,\n",
       "       False])"
      ]
     },
     "execution_count": 115,
     "metadata": {},
     "output_type": "execute_result"
    }
   ],
   "source": [
    "selector = vec <= 5\n",
    "selector"
   ]
  },
  {
   "cell_type": "markdown",
   "metadata": {
    "id": "3FE2fc9Src2F"
   },
   "source": [
    "You can use these boolean arrays to subset the corresponding true values."
   ]
  },
  {
   "cell_type": "code",
   "execution_count": 116,
   "metadata": {
    "colab": {
     "base_uri": "https://localhost:8080/"
    },
    "executionInfo": {
     "elapsed": 176,
     "status": "ok",
     "timestamp": 1664987008940,
     "user": {
      "displayName": "Samuel Lippl",
      "userId": "08154497855195492291"
     },
     "user_tz": 240
    },
    "id": "E_346Ach9Yc3",
    "outputId": "8387c004-114f-40a7-b29c-9dda5446f30a"
   },
   "outputs": [
    {
     "data": {
      "text/plain": [
       "array([0, 1, 2, 3, 4, 5, 6, 7, 8, 9])"
      ]
     },
     "execution_count": 116,
     "metadata": {},
     "output_type": "execute_result"
    }
   ],
   "source": [
    "vec"
   ]
  },
  {
   "cell_type": "code",
   "execution_count": 117,
   "metadata": {
    "colab": {
     "base_uri": "https://localhost:8080/"
    },
    "executionInfo": {
     "elapsed": 7,
     "status": "ok",
     "timestamp": 1664987040044,
     "user": {
      "displayName": "Samuel Lippl",
      "userId": "08154497855195492291"
     },
     "user_tz": 240
    },
    "id": "__3rjtD4rcLE",
    "outputId": "91ef1550-ebe4-429d-c90b-c044c39c5b3a"
   },
   "outputs": [
    {
     "data": {
      "text/plain": [
       "array([0, 1, 2, 3, 4, 5])"
      ]
     },
     "execution_count": 117,
     "metadata": {},
     "output_type": "execute_result"
    }
   ],
   "source": [
    "vec[selector]"
   ]
  },
  {
   "cell_type": "code",
   "execution_count": 118,
   "metadata": {
    "colab": {
     "base_uri": "https://localhost:8080/"
    },
    "executionInfo": {
     "elapsed": 205,
     "status": "ok",
     "timestamp": 1664987055396,
     "user": {
      "displayName": "Samuel Lippl",
      "userId": "08154497855195492291"
     },
     "user_tz": 240
    },
    "id": "obfmbaxk9i-a",
    "outputId": "91b80004-4b61-4468-ce78-ab68d6d21e70"
   },
   "outputs": [
    {
     "data": {
      "text/plain": [
       "array([0, 1, 2, 3, 4, 5])"
      ]
     },
     "execution_count": 118,
     "metadata": {},
     "output_type": "execute_result"
    }
   ],
   "source": [
    "vec[vec<=5]"
   ]
  },
  {
   "cell_type": "markdown",
   "metadata": {
    "id": "8MaLCKf9rktz"
   },
   "source": [
    "You can do the same with matrices:"
   ]
  },
  {
   "cell_type": "code",
   "execution_count": 126,
   "metadata": {
    "id": "rlF_CayR9mFR"
   },
   "outputs": [],
   "source": [
    "mat_1 = np.array([[1, 2],\n",
    "       [3, 4],\n",
    "       [5, 6]])"
   ]
  },
  {
   "cell_type": "code",
   "execution_count": 120,
   "metadata": {
    "colab": {
     "base_uri": "https://localhost:8080/"
    },
    "executionInfo": {
     "elapsed": 108,
     "status": "ok",
     "timestamp": 1696881602277,
     "user": {
      "displayName": "Abhishek Shah",
      "userId": "00429883755002842716"
     },
     "user_tz": 240
    },
    "id": "EwzXKJemruRW",
    "outputId": "8d2b04e7-578b-46f1-858c-f865e9f2c453"
   },
   "outputs": [
    {
     "data": {
      "text/plain": [
       "array([[False, False],\n",
       "       [ True,  True],\n",
       "       [ True,  True]])"
      ]
     },
     "execution_count": 120,
     "metadata": {},
     "output_type": "execute_result"
    }
   ],
   "source": [
    "mat_1 >= 3"
   ]
  },
  {
   "cell_type": "code",
   "execution_count": 121,
   "metadata": {
    "colab": {
     "base_uri": "https://localhost:8080/"
    },
    "executionInfo": {
     "elapsed": 105,
     "status": "ok",
     "timestamp": 1696881603555,
     "user": {
      "displayName": "Abhishek Shah",
      "userId": "00429883755002842716"
     },
     "user_tz": 240
    },
    "id": "Iuxu6VIkrj7b",
    "outputId": "21a429b3-be03-4895-e55b-f9824ef1b834"
   },
   "outputs": [
    {
     "data": {
      "text/plain": [
       "array([3, 4, 5, 6])"
      ]
     },
     "execution_count": 121,
     "metadata": {},
     "output_type": "execute_result"
    }
   ],
   "source": [
    "mat_1[mat_1 >= 3]"
   ]
  },
  {
   "cell_type": "markdown",
   "metadata": {
    "id": "Ei0wsNmortBZ"
   },
   "source": [
    "### Questions 5\n",
    "- Consider the example matrix from above and subset all entries with values between 2 and 4. You can try to do this in one line or do it through multipel lines!"
   ]
  },
  {
   "cell_type": "code",
   "execution_count": 134,
   "metadata": {
    "colab": {
     "base_uri": "https://localhost:8080/"
    },
    "executionInfo": {
     "elapsed": 132,
     "status": "ok",
     "timestamp": 1696881856387,
     "user": {
      "displayName": "Abhishek Shah",
      "userId": "00429883755002842716"
     },
     "user_tz": 240
    },
    "id": "n2Dm4_0fBo2b",
    "outputId": "373472df-8a9d-42a9-873a-bcf2c3d930c8"
   },
   "outputs": [
    {
     "data": {
      "text/plain": [
       "array([3])"
      ]
     },
     "execution_count": 134,
     "metadata": {},
     "output_type": "execute_result"
    }
   ],
   "source": [
    "\n",
    "\n",
    "mat_1[(mat_1 >2) & (mat_1<4)]"
   ]
  }
 ],
 "metadata": {
  "colab": {
   "provenance": []
  },
  "kernelspec": {
   "display_name": "Python 3 (ipykernel)",
   "language": "python",
   "name": "python3"
  },
  "language_info": {
   "codemirror_mode": {
    "name": "ipython",
    "version": 3
   },
   "file_extension": ".py",
   "mimetype": "text/x-python",
   "name": "python",
   "nbconvert_exporter": "python",
   "pygments_lexer": "ipython3",
   "version": "3.10.12"
  }
 },
 "nbformat": 4,
 "nbformat_minor": 1
}
